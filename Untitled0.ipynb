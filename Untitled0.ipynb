{
  "nbformat": 4,
  "nbformat_minor": 0,
  "metadata": {
    "colab": {
      "provenance": []
    },
    "kernelspec": {
      "name": "python3",
      "display_name": "Python 3"
    },
    "language_info": {
      "name": "python"
    }
  },
  "cells": [
    {
      "cell_type": "markdown",
      "source": [
        "# Function.\n"
      ],
      "metadata": {
        "id": "CtDL4kJY_TAo"
      }
    },
    {
      "cell_type": "markdown",
      "source": [
        "Q1. What is the difference between a function and a method in Python?\n",
        "  -In Python, both functions and methods are blocks of reusable code, but there are key differences between them:\n",
        "  \n",
        "  * Function\n",
        "  .A function is defined using the def keyword.\n",
        "  .It is independent and not associated with any class or object.\n",
        "  .It can take arguments and return values.\n",
        "  .It can be called directly using its name.\n"
      ],
      "metadata": {
        "id": "gUMojW0R_fyA"
      }
    },
    {
      "cell_type": "code",
      "execution_count": null,
      "metadata": {
        "colab": {
          "base_uri": "https://localhost:8080/"
        },
        "id": "QdoL4-Mn-37Z",
        "outputId": "e10552fb-d874-46fd-c39f-645ac5c4fd98"
      },
      "outputs": [
        {
          "output_type": "stream",
          "name": "stdout",
          "text": [
            "Hello, Alice!\n"
          ]
        }
      ],
      "source": [
        "def greet(name):\n",
        "    return f\"Hello, {name}!\"\n",
        "\n",
        "print(greet(\"Alice\"))\n"
      ]
    },
    {
      "cell_type": "markdown",
      "source": [
        "* Method\n",
        "A method is a function that belongs to an object (instance) of a class.\n",
        "It is defined inside a class and typically operates on the instance (self).\n",
        "It can access and modify the attributes of the instance.\n",
        "It must be called using an instance of the class.\n",
        "Example:"
      ],
      "metadata": {
        "id": "3_v1IhNNA_cD"
      }
    },
    {
      "cell_type": "code",
      "source": [
        "class Person:\n",
        "    def __init__(self, name):\n",
        "        self.name = name\n",
        "\n",
        "    def greet(self):\n",
        "        return f\"Hello, {self.name}!\"\n",
        "\n",
        "p = Person(\"Alice\")\n",
        "print(p.greet())\n"
      ],
      "metadata": {
        "colab": {
          "base_uri": "https://localhost:8080/"
        },
        "id": "VybO7mHxBJbz",
        "outputId": "96c9e6c1-0e33-415a-f03c-45220afce142"
      },
      "execution_count": null,
      "outputs": [
        {
          "output_type": "stream",
          "name": "stdout",
          "text": [
            "Hello, Alice!\n"
          ]
        }
      ]
    },
    {
      "cell_type": "markdown",
      "source": [
        "Q2.Explain the concept of function arguments and parameters in Python:\n",
        "\n",
        "---\n",
        "\n",
        "\n",
        " - Parameters vs. Arguments\n",
        "\n",
        "  .Parameters: These are the variables listed inside the parentheses when defining a function. They act as placeholders for the values that the function will receive.\n",
        "\n",
        "  .Arguments: These are the actual values passed to the function when calling it.     \n",
        "\n"
      ],
      "metadata": {
        "id": "ENVh3Joy_RW5"
      }
    },
    {
      "cell_type": "code",
      "source": [
        "def greet(name):  # 'name' is a parameter\n",
        "    print(f\"Hello, {name}!\")\n",
        "\n",
        "greet(\"Alice\")  # \"Alice\" is an argument\n"
      ],
      "metadata": {
        "colab": {
          "base_uri": "https://localhost:8080/"
        },
        "id": "_8qObuaFazFY",
        "outputId": "36b1fb18-27a7-47b0-dd9e-9e3fefe55529"
      },
      "execution_count": null,
      "outputs": [
        {
          "output_type": "stream",
          "name": "stdout",
          "text": [
            "Hello, Alice!\n"
          ]
        }
      ]
    },
    {
      "cell_type": "markdown",
      "source": [
        "Q3. What are the different ways to define and call a function in Python:\n",
        "\n",
        " -In Python, functions can be defined and called in various ways based on the requirements of the program. Below are the different ways to define and call functions, explained in theory:\n",
        "\n",
        "  . Regular Function Definition and Call\n",
        "\n",
        "A function in Python is defined using the def keyword, followed by the function name and parameters (if any). The function body contains the statements to execute, and it can be called using its name followed by parentheses.\n",
        "\n",
        "  . Function with Return Value\n",
        "\n",
        "Functions can return values using the return statement. This allows the function to send a result back to the caller, which can be stored in a variable or used directly.\n",
        "\n",
        "  . Function with Default Arguments\n",
        "  \n",
        "A function can have default values for parameters, making those arguments optional when calling the function. If an argument is not provided, the default value is used\n",
        "\n",
        "\n",
        "\n"
      ],
      "metadata": {
        "id": "JZmBuZvya7FD"
      }
    },
    {
      "cell_type": "markdown",
      "source": [
        " Q4 What is the purpose of the `return` statement in a Python function:\n",
        "\n",
        "   -The return statement in a Python function is used to send a value back to the caller after the function executes. It allows a function to produce an output that can be stored in a variable, used in expressions, or passed to other functions.\n",
        "\n",
        "Purpose of return:\n",
        "\n",
        "  .Returns a Result – Provides an output value from a function.\n",
        "  .Stops Execution – Terminates the function once return is encountered.\n",
        "  .Allows Reusability – The returned value can be used multiple times.\n",
        "  \n",
        " Example:\n"
      ],
      "metadata": {
        "id": "rCuFsyusces_"
      }
    },
    {
      "cell_type": "code",
      "source": [
        "def square(num):\n",
        "    return num * num\n",
        "\n",
        "result = square(5)\n",
        "print(result)\n"
      ],
      "metadata": {
        "colab": {
          "base_uri": "https://localhost:8080/"
        },
        "id": "AP0gBwXncGJO",
        "outputId": "5a34e23c-dcc2-4064-ccea-41c58b443fb1"
      },
      "execution_count": null,
      "outputs": [
        {
          "output_type": "stream",
          "name": "stdout",
          "text": [
            "25\n"
          ]
        }
      ]
    },
    {
      "cell_type": "markdown",
      "source": [
        "Q5 What are iterators in Python and how do they differ from iterables:\n",
        "\n",
        "  -In iterators ord iterobtes ore mth fundamentol concepts toc handling dota sequences, but they serve different on Of each artid haw they differ\n",
        "\n",
        ". Iterables>\n",
        "\n",
        " •An ig arty retutrting its rnembets at a r•noking it usable in O for loop or with other itetotøon tilter. ona\n",
        " •corntMn euomplos \tdata stnueturos \ttuples. dietiononos. sots. and strings, those Objects \t__() \talk%WS \tto return an iterator When needed\n",
        " •Essentially, it an obi%t can be looped \tan itorobto.\n",
        "  nunbers 11. 2. 31 for nun in no—oerst print(nue)  \n",
        "\n",
        ". Iterators>\n",
        " .• An \tis  that  to fetch 'terns \tan \tat O time.\n",
        "you eon got on iterator trotnonitoeaueby coiling iter() on it. The iterator itself reaso motnod which returns the next item tro:åm the sequence each time it'S coned Once the items ore exhausted,\n",
        "  \n"
      ],
      "metadata": {
        "id": "2KfXWPrOds56"
      }
    },
    {
      "cell_type": "markdown",
      "source": [
        "Q6 Explain the concept of generators in Python and how they are defined:\n",
        "\n",
        "  - Generators in Python\n",
        " Generators in Python are a special type of iterable that allow on-the-fly generation of values instead of storing them in memory. They are used to create iterators in a more concise and memory-efficient way.\n",
        "\n",
        " How Are Generators Defined?\n",
        " Generators are defined using:\n",
        " Generator Functions – These use the yield keyword instead of return.\n",
        " Generator Expressions – A concise way to create generators, similar to list comprehensions.\n",
        "\n",
        "2. Generator Functions\n",
        "A generator function is a function that contains one or more yield statements. Unlike a normal function that returns a value and terminates, a generator pauses execution when it encounters yield and resumes from that point when called again.\n",
        "\n",
        "Example: Simple Generator Function\n",
        "\n",
        "\n"
      ],
      "metadata": {
        "id": "3zd5ooKpknre"
      }
    },
    {
      "cell_type": "code",
      "source": [
        "def count_up_to(n):\n",
        "    count = 1\n",
        "    while count <= n:\n",
        "        yield count  # Yield returns the value and pauses execution\n",
        "        count += 1\n",
        "\n",
        "gen = count_up_to(3)  # Create a generator object\n",
        "\n",
        "print(next(gen))  # Output: 1\n",
        "print(next(gen))  # Output: 2\n",
        "print(next(gen))  # Output: 3\n",
        "# print(next(gen))  # Raises StopIteration\n"
      ],
      "metadata": {
        "colab": {
          "base_uri": "https://localhost:8080/"
        },
        "id": "YaMCt_xxj6Lp",
        "outputId": "196a21cc-47fa-489f-8dc1-4d029ce4250d"
      },
      "execution_count": null,
      "outputs": [
        {
          "output_type": "stream",
          "name": "stdout",
          "text": [
            "1\n",
            "2\n",
            "3\n"
          ]
        }
      ]
    },
    {
      "cell_type": "markdown",
      "source": [
        "Q7. What are the advantages of using generators over regular functions:\n",
        "   - Advantages of Using Generators Over Regular Functions in Python\n",
        "Generators provide several benefits over regular functions, especially when dealing with large data or memory-intensive operations. Below are the key advantages:\n",
        "\n",
        "1. Memory Efficiency (Lazy Evaluation)\n",
        "Generators produce values on demand rather than storing them all at once in memory. This makes them ideal for handling large datasets efficiently.\n",
        "\n",
        "2. Faster Execution (No Need to Build Full Data Structures)\n",
        "Since generators yield values one at a time, they start producing output immediately instead of waiting for an entire list or structure to be built.\n",
        "\n",
        "\n",
        "3. Simplifies Code for Iterators\n",
        "Generators automatically handle iteration and maintain internal state, removing the need for manually implementing __iter__() and __next__()."
      ],
      "metadata": {
        "id": "U1jsfhdknVSb"
      }
    },
    {
      "cell_type": "markdown",
      "source": [
        "Q8.  What is a lambda function in Python and when is it typically used:\n",
        "   - Lambda Function in Python\n",
        "A lambda function in Python is a short, anonymous function that is defined using the lambda keyword. It can have any number of arguments but only one expression. Lambda functions are typically used for quick, one-time operations where defining a full function using def would be unnecessary.\n",
        "\n",
        ". Syntax of a Lambda Function\n",
        "\n",
        "lambda arguments: expression:\n",
        "\n",
        " lambda → Keyword that defines an anonymous function.\n",
        " arguments → The input parameters, similar to a normal function.\n",
        " expression → A single expression whose result is returned.\n",
        "\n",
        "  . Limitations of Lambda Functions\n",
        "❌ Cannot have multiple expressions or statements.\n",
        "❌ Cannot include loops or complex logic.\n",
        "❌ Harder to read if overused.\n",
        "\n"
      ],
      "metadata": {
        "id": "IHzZ6wvwn507"
      }
    },
    {
      "cell_type": "markdown",
      "source": [
        "Q9.Explain the purpose and usage of the `map()` function in Python:\n",
        "\n",
        "  - Usage of the map() Function in Python\n",
        "\n",
        "The map() function in Python is used to apply a given function to each item of an iterable (like a list, tuple, etc.) and return a map object (which is an iterator) that yields the results. It allows you to perform operations on all items in an iterable without having to use a loop.\n",
        "\n",
        "  - Purpose of the map() Function in Python\n",
        "\n",
        "The primary purpose of the map() function in Python is to apply a given function to all items in an iterable (like a list, tuple, etc.) and return an iterator that yields the results. This allows you to transform or process each element of the iterable in a clean, concise, and memory-efficient way without using explicit loops."
      ],
      "metadata": {
        "id": "1dzw-aDWrbvi"
      }
    },
    {
      "cell_type": "markdown",
      "source": [
        "Q10 What is the difference between `map()`, `reduce()`, and `filter()` functions in Python:\n",
        "\n",
        "  -In Python, the map(), reduce(), and filter() functions are all part of the functional programming toolkit. Each of these functions applies a specific operation to iterables but differs in how they process data and return results. Here's a breakdown of the key differences:\n",
        "\n",
        "1. map() Function\n",
        "Purpose: The map() function applies a given function to every element in an iterable (like a list or tuple) and returns an iterator of the results.\n",
        "Output: Returns an iterator of transformed values (one output per input element).\n",
        "Typical Use: When you want to transform or modify each item in an iterable (e.g., square each number in a list).\n",
        "2. reduce() Function\n",
        "Purpose: The reduce() function applies a binary function (a function that takes two arguments) cumulatively to the elements of an iterable, reducing them to a single value.\n",
        "Output: Returns a single value that results from the cumulative application of the function.\n",
        "Typical Use: When you want to reduce an iterable to a single value, such as finding the sum or product of all elements in a list.\n",
        "3. filter() Function\n",
        "Purpose: The filter() function filters out elements from an iterable based on whether they satisfy a Boolean condition (True or False).\n",
        "Output: Returns an iterator that only includes elements that return True when the function is applied.\n",
        "Typical Use: When you want to select elements that meet certain criteria, such as finding all even numbers in a list."
      ],
      "metadata": {
        "id": "FGz5LmklrbsE"
      }
    },
    {
      "cell_type": "markdown",
      "source": [
        "Q11  write the internal mechanism for sum operation using  reduce function on this given list:[47,11,42,13]; :\n",
        "\n",
        "   - The reduce function from Python’s functools module applies a specified function cumulatively to the items of an iterable, reducing it to a single value. Here’s how the sum operation works internally using reduce on the given list [47, 11, 42, 13]:\n",
        "\n"
      ],
      "metadata": {
        "id": "KsSPPPH7Lb7u"
      }
    },
    {
      "cell_type": "code",
      "source": [
        "from functools import reduce\n",
        "\n",
        "# Given list\n",
        "numbers = [47, 11, 42, 13]\n",
        "\n",
        "# Reduce function to sum elements\n",
        "sum_result = reduce(lambda x, y: x + y, numbers)\n",
        "\n",
        "print(\"Sum of elements:\", sum_result)\n"
      ],
      "metadata": {
        "colab": {
          "base_uri": "https://localhost:8080/"
        },
        "id": "IwFvAtRXNbuv",
        "outputId": "ba7a4cce-8025-4338-be42-52d182b12d34"
      },
      "execution_count": null,
      "outputs": [
        {
          "output_type": "stream",
          "name": "stdout",
          "text": [
            "Sum of elements: 113\n"
          ]
        }
      ]
    },
    {
      "cell_type": "markdown",
      "source": [
        "   1.Initialization: The first two elements 47 and 11 are passed to the lambda\n",
        "     function:\n",
        "     47 + 11 = 58\n",
        "\n",
        "  2.Next Iteration: The result 58 is then combined with the next element 42:\n",
        "     58 + 42 = 100\n",
        "  3.Final Iteration: The result 100 is combined with the last element 13:\n",
        "    100 + 13 = 113\n",
        "   Final Output=113"
      ],
      "metadata": {
        "id": "jc26D5vwNkfW"
      }
    },
    {
      "cell_type": "markdown",
      "source": [],
      "metadata": {
        "id": "l5pj8oFetzt6"
      }
    },
    {
      "cell_type": "markdown",
      "source": [],
      "metadata": {
        "id": "XtH2Up7isqj9"
      }
    },
    {
      "cell_type": "markdown",
      "source": [],
      "metadata": {
        "id": "vOTQWzULslHQ"
      }
    },
    {
      "cell_type": "markdown",
      "source": [],
      "metadata": {
        "id": "B0QYTcGTqwMm"
      }
    }
  ]
}